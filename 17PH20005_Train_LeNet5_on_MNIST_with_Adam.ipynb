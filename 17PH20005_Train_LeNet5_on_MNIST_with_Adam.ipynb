{
  "nbformat": 4,
  "nbformat_minor": 0,
  "metadata": {
    "colab": {
      "name": "Train LeNet5 on MNIST with Adam.ipynb",
      "provenance": []
    },
    "kernelspec": {
      "name": "python3",
      "display_name": "Python 3"
    },
    "accelerator": "TPU",
    "widgets": {
      "application/vnd.jupyter.widget-state+json": {
        "2578fc3427494aa9bcb3b9399a47aadf": {
          "model_module": "@jupyter-widgets/controls",
          "model_name": "HBoxModel",
          "state": {
            "_view_name": "HBoxView",
            "_dom_classes": [],
            "_model_name": "HBoxModel",
            "_view_module": "@jupyter-widgets/controls",
            "_model_module_version": "1.5.0",
            "_view_count": null,
            "_view_module_version": "1.5.0",
            "box_style": "",
            "layout": "IPY_MODEL_052d94a7b8b74aba8b3c155f1f3e72f1",
            "_model_module": "@jupyter-widgets/controls",
            "children": [
              "IPY_MODEL_cbcc0013c7be48efb466e0180f3d8b93",
              "IPY_MODEL_44516816b98a4ba08c6118f2e9281a90"
            ]
          }
        },
        "b61c04c0a3964e7ebcab0aa4cadac2e9": {
          "model_module": "@jupyter-widgets/controls",
          "model_name": "HBoxModel",
          "state": {
            "_view_name": "HBoxView",
            "_dom_classes": [],
            "_model_name": "HBoxModel",
            "_view_module": "@jupyter-widgets/controls",
            "_model_module_version": "1.5.0",
            "_view_count": null,
            "_view_module_version": "1.5.0",
            "box_style": "",
            "layout": "IPY_MODEL_111338b82e3b4c69a866b1ecfa63695e",
            "_model_module": "@jupyter-widgets/controls",
            "children": [
              "IPY_MODEL_0e000ab8ca234f03af9ce42fa666d37c",
              "IPY_MODEL_1a26506a6fbb401da1a7aecb07fdd75b"
            ]
          }
        },
        "aa4305b84a284d448bdf84bf3ece06ee": {
          "model_module": "@jupyter-widgets/controls",
          "model_name": "HBoxModel",
          "state": {
            "_view_name": "HBoxView",
            "_dom_classes": [],
            "_model_name": "HBoxModel",
            "_view_module": "@jupyter-widgets/controls",
            "_model_module_version": "1.5.0",
            "_view_count": null,
            "_view_module_version": "1.5.0",
            "box_style": "",
            "layout": "IPY_MODEL_8f01649451ed4240a3a4f596f982d2d4",
            "_model_module": "@jupyter-widgets/controls",
            "children": [
              "IPY_MODEL_b7a47b8173e643529dd7a289cd42858f",
              "IPY_MODEL_6495fc90877a4605bbf53e804c63d12a"
            ]
          }
        },
        "5cbb3c3390c147d191ee513b9e23a0ba": {
          "model_module": "@jupyter-widgets/controls",
          "model_name": "HBoxModel",
          "state": {
            "_view_name": "HBoxView",
            "_dom_classes": [],
            "_model_name": "HBoxModel",
            "_view_module": "@jupyter-widgets/controls",
            "_model_module_version": "1.5.0",
            "_view_count": null,
            "_view_module_version": "1.5.0",
            "box_style": "",
            "layout": "IPY_MODEL_c767aa7f9c804382b4c43d3b0f864eba",
            "_model_module": "@jupyter-widgets/controls",
            "children": [
              "IPY_MODEL_981e0508ffcd4d499ce8a5b43e1dc791",
              "IPY_MODEL_833ebc1d84124fd1ae385b7cbec9696a"
            ]
          }
        }
      }
    }
  },
  "cells": [
    {
      "cell_type": "code",
      "metadata": {
        "id": "1bsLVbkEfD1A",
        "colab_type": "code",
        "colab": {}
      },
      "source": [
        "# Anirban Bairagi\n",
        "# 17PH20005\n",
        "# Train LeNet5 on MNIST with Adam\n",
        "\n",
        "%matplotlib inline\n",
        "import torch\n",
        "import numpy as np\n",
        "import torch.nn as nn\n",
        "import torch.nn.functional as F\n",
        "import matplotlib.pyplot as plt\n",
        "from torchvision import transforms, datasets\n",
        "import torch.optim as optim"
      ],
      "execution_count": 0,
      "outputs": []
    },
    {
      "cell_type": "code",
      "metadata": {
        "id": "Apa6nbTxfGJU",
        "colab_type": "code",
        "colab": {}
      },
      "source": [
        "class LeNet(nn.Module):\n",
        "    def __init__(self):\n",
        "        super(LeNet, self).__init__()\n",
        "        self.conv1 = nn.Conv2d(1, 6, kernel_size=5)\n",
        "        self.pool1 = nn.MaxPool2d(kernel_size=2,stride=2)\n",
        "        self.conv2 = nn.Conv2d(6, 16, kernel_size=5)\n",
        "        self.pool2 = nn.MaxPool2d(kernel_size=2,stride=2)        \n",
        "        self.fc1 = nn.Linear(400, 120)\n",
        "        self.fc2 = nn.Linear(120, 84)\n",
        "        self.fc3 = nn.Linear(84, 10)\n",
        "\n",
        "    def forward(self, x):\n",
        "        x = F.relu(self.conv1(x))\n",
        "        x = self.pool1(x)\n",
        "        x = F.relu(self.conv2(x))\n",
        "        x = self.pool2(x)\n",
        "        x = x.view(-1, 400)\n",
        "        x = F.relu(self.fc1(x)) \n",
        "        x = F.relu(self.fc2(x))\n",
        "        x = self.fc3(x)\n",
        "        return F.log_softmax(x,dim=1)"
      ],
      "execution_count": 0,
      "outputs": []
    },
    {
      "cell_type": "code",
      "metadata": {
        "id": "5fL7mY85fIZK",
        "colab_type": "code",
        "outputId": "28e737b8-b538-47a1-baf4-508f3545f0fd",
        "colab": {
          "base_uri": "https://localhost:8080/",
          "height": 170
        }
      },
      "source": [
        "use_gpu = torch.cuda.is_available()\n",
        "model = LeNet()\n",
        "print(model)\n",
        "if use_gpu:\n",
        "    print('GPU is available!')\n",
        "    model = model.cuda()"
      ],
      "execution_count": 4,
      "outputs": [
        {
          "output_type": "stream",
          "text": [
            "LeNet(\n",
            "  (conv1): Conv2d(1, 6, kernel_size=(5, 5), stride=(1, 1))\n",
            "  (pool1): MaxPool2d(kernel_size=2, stride=2, padding=0, dilation=1, ceil_mode=False)\n",
            "  (conv2): Conv2d(6, 16, kernel_size=(5, 5), stride=(1, 1))\n",
            "  (pool2): MaxPool2d(kernel_size=2, stride=2, padding=0, dilation=1, ceil_mode=False)\n",
            "  (fc1): Linear(in_features=400, out_features=120, bias=True)\n",
            "  (fc2): Linear(in_features=120, out_features=84, bias=True)\n",
            "  (fc3): Linear(in_features=84, out_features=10, bias=True)\n",
            ")\n"
          ],
          "name": "stdout"
        }
      ]
    },
    {
      "cell_type": "code",
      "metadata": {
        "id": "WFXUK4-bfLHh",
        "colab_type": "code",
        "outputId": "b6fd5967-9f33-4c41-c82d-8beb5b2f4591",
        "colab": {
          "base_uri": "https://localhost:8080/",
          "height": 357,
          "referenced_widgets": [
            "2578fc3427494aa9bcb3b9399a47aadf",
            "b61c04c0a3964e7ebcab0aa4cadac2e9",
            "aa4305b84a284d448bdf84bf3ece06ee",
            "5cbb3c3390c147d191ee513b9e23a0ba"
          ]
        }
      },
      "source": [
        "apply_transform = transforms.Compose([transforms.Resize(32), transforms.ToTensor()])\n",
        "X= np.arange(7,13)\n",
        "Batch = [2**i for i in X] # change according to system specs\n",
        "train_loss = []\n",
        "for i in X:\n",
        "  BatchSize=int(2**i)\n",
        "  trainset = datasets.MNIST(root='./MNIST', train=True, download=True, transform=apply_transform)\n",
        "  trainLoader = torch.utils.data.DataLoader(trainset, batch_size=BatchSize,\n",
        "                                          shuffle=True, num_workers=4) # Creating dataloader\n",
        "\n",
        "  # Validation set with random rotations in the range [-90,90]\n",
        "  testset = datasets.MNIST(root='./MNIST', train=False, download=True, transform=apply_transform)\n",
        "  testLoader = torch.utils.data.DataLoader(testset, batch_size=BatchSize,\n",
        "                                         shuffle=False, num_workers=4) # Creating dataloader\n",
        "  \n",
        "\n",
        "  learning_rate = 0.1\n",
        "  num_epochs = 5\n",
        "  criterion = nn.CrossEntropyLoss() \n",
        "  params = model.parameters()\n",
        "  optimizer = optim.Adam(params=params,lr=learning_rate)\n",
        "\n",
        "\n",
        "  \n",
        "  \n",
        "  for epoch in range(num_epochs):\n",
        "    \n",
        "    running_loss = 0.0 \n",
        "    running_corr = 0\n",
        "        \n",
        "    for i,data in enumerate(trainLoader):\n",
        "        inputs,labels = data\n",
        "        \n",
        "        if use_gpu:\n",
        "            inputs, labels = inputs.cuda(),labels.cuda() \n",
        "        # Initializing model gradients to zero\n",
        "        optimizer.zero_grad() \n",
        "        # Data feed-forward through the network\n",
        "        outputs = model(inputs)\n",
        "        # Predicted class is the one with maximum probability\n",
        "        preds = torch.argmax(outputs,dim=1)\n",
        "        # Finding the loss\n",
        "        #loss=F.nll_loss(outputs,labels)\n",
        "        loss = criterion(outputs, labels)\n",
        "        # Accumulating the loss for each batch\n",
        "        running_loss += loss \n",
        "        # Accumulate number of correct predictions\n",
        "        running_corr += torch.sum(preds==labels)    \n",
        "        loss.backward()\n",
        "        optimizer.step()\n",
        "        \n",
        "\n",
        "    \n",
        "  epoch_loss = running_loss.item()/(i+1)\n",
        "  train_loss.append(epoch_loss) #train_loss after num_epochs\n",
        "  print('BatchSize {:} | Training loss: {:.4f}'.format(BatchSize,epoch_loss))"
      ],
      "execution_count": 5,
      "outputs": [
        {
          "output_type": "stream",
          "text": [
            "Downloading http://yann.lecun.com/exdb/mnist/train-images-idx3-ubyte.gz to ./MNIST/MNIST/raw/train-images-idx3-ubyte.gz\n"
          ],
          "name": "stdout"
        },
        {
          "output_type": "display_data",
          "data": {
            "application/vnd.jupyter.widget-view+json": {
              "model_id": "2578fc3427494aa9bcb3b9399a47aadf",
              "version_minor": 0,
              "version_major": 2
            },
            "text/plain": [
              "HBox(children=(IntProgress(value=1, bar_style='info', max=1), HTML(value='')))"
            ]
          },
          "metadata": {
            "tags": []
          }
        },
        {
          "output_type": "stream",
          "text": [
            "\n",
            "Extracting ./MNIST/MNIST/raw/train-images-idx3-ubyte.gz to ./MNIST/MNIST/raw\n",
            "Downloading http://yann.lecun.com/exdb/mnist/train-labels-idx1-ubyte.gz to ./MNIST/MNIST/raw/train-labels-idx1-ubyte.gz\n"
          ],
          "name": "stdout"
        },
        {
          "output_type": "display_data",
          "data": {
            "application/vnd.jupyter.widget-view+json": {
              "model_id": "b61c04c0a3964e7ebcab0aa4cadac2e9",
              "version_minor": 0,
              "version_major": 2
            },
            "text/plain": [
              "HBox(children=(IntProgress(value=1, bar_style='info', max=1), HTML(value='')))"
            ]
          },
          "metadata": {
            "tags": []
          }
        },
        {
          "output_type": "stream",
          "text": [
            "\n",
            "Extracting ./MNIST/MNIST/raw/train-labels-idx1-ubyte.gz to ./MNIST/MNIST/raw\n",
            "Downloading http://yann.lecun.com/exdb/mnist/t10k-images-idx3-ubyte.gz to ./MNIST/MNIST/raw/t10k-images-idx3-ubyte.gz\n"
          ],
          "name": "stdout"
        },
        {
          "output_type": "display_data",
          "data": {
            "application/vnd.jupyter.widget-view+json": {
              "model_id": "aa4305b84a284d448bdf84bf3ece06ee",
              "version_minor": 0,
              "version_major": 2
            },
            "text/plain": [
              "HBox(children=(IntProgress(value=1, bar_style='info', max=1), HTML(value='')))"
            ]
          },
          "metadata": {
            "tags": []
          }
        },
        {
          "output_type": "stream",
          "text": [
            "\n",
            "Extracting ./MNIST/MNIST/raw/t10k-images-idx3-ubyte.gz to ./MNIST/MNIST/raw\n",
            "Downloading http://yann.lecun.com/exdb/mnist/t10k-labels-idx1-ubyte.gz to ./MNIST/MNIST/raw/t10k-labels-idx1-ubyte.gz\n"
          ],
          "name": "stdout"
        },
        {
          "output_type": "display_data",
          "data": {
            "application/vnd.jupyter.widget-view+json": {
              "model_id": "5cbb3c3390c147d191ee513b9e23a0ba",
              "version_minor": 0,
              "version_major": 2
            },
            "text/plain": [
              "HBox(children=(IntProgress(value=1, bar_style='info', max=1), HTML(value='')))"
            ]
          },
          "metadata": {
            "tags": []
          }
        },
        {
          "output_type": "stream",
          "text": [
            "\n",
            "Extracting ./MNIST/MNIST/raw/t10k-labels-idx1-ubyte.gz to ./MNIST/MNIST/raw\n",
            "Processing...\n",
            "Done!\n",
            "BatchSize 128 | Training loss: 2.3076\n",
            "BatchSize 256 | Training loss: 2.3056\n",
            "BatchSize 512 | Training loss: 2.3043\n",
            "BatchSize 1024 | Training loss: 2.3036\n",
            "BatchSize 2048 | Training loss: 2.3024\n",
            "BatchSize 4096 | Training loss: 2.3025\n"
          ],
          "name": "stdout"
        }
      ]
    },
    {
      "cell_type": "code",
      "metadata": {
        "id": "fXGX_MZDhfKS",
        "colab_type": "code",
        "outputId": "61c1adc6-325d-46e7-8521-67bd7cadb987",
        "colab": {
          "base_uri": "https://localhost:8080/",
          "height": 170
        }
      },
      "source": [
        "apply_transform = transforms.Compose([transforms.Resize(32), transforms.ToTensor()])\n",
        "\n",
        "BatchSize=256 # change according to system specs\n",
        "\n",
        "  \n",
        "trainset = datasets.MNIST(root='./MNIST', train=True, download=True, transform=apply_transform)\n",
        "trainLoader = torch.utils.data.DataLoader(trainset, batch_size=BatchSize,\n",
        "                                          shuffle=True, num_workers=4) # Creating dataloader\n",
        "\n",
        "testset = datasets.MNIST(root='./MNIST', train=False, download=True, transform=apply_transform)\n",
        "testLoader = torch.utils.data.DataLoader(testset, batch_size=BatchSize,\n",
        "                                         shuffle=False, num_workers=4) # Creating dataloader                        \n",
        "\n",
        "\n",
        "\n",
        "Y= np.arange(1,10)/10\n",
        "train_loss1 = []\n",
        "\n",
        "for i in Y:\n",
        "  num_epochs = 5\n",
        "  criterion = nn.CrossEntropyLoss() \n",
        "  params = model.parameters()\n",
        "  learning_rate= float(i)\n",
        "  optimizer = optim.Adam(params=params,lr=learning_rate)\n",
        "\n",
        "\n",
        "  for epoch in range(num_epochs):\n",
        "    \n",
        "    running_loss = 0.0 \n",
        "    running_corr = 0\n",
        "        \n",
        "    for i,data in enumerate(trainLoader):\n",
        "        inputs,labels = data\n",
        "        \n",
        "        if use_gpu:\n",
        "            inputs, labels = inputs.cuda(),labels.cuda() \n",
        "        # Initializing model gradients to zero\n",
        "        optimizer.zero_grad() \n",
        "        # Data feed-forward through the network\n",
        "        outputs = model(inputs)\n",
        "        # Predicted class is the one with maximum probability\n",
        "        preds = torch.argmax(outputs,dim=1)\n",
        "        # Finding the loss\n",
        "        #loss=F.nll_loss(outputs,labels)\n",
        "        loss = criterion(outputs, labels)\n",
        "        # Accumulating the loss for each batch\n",
        "        running_loss += loss \n",
        "        # Accumulate number of correct predictions\n",
        "        running_corr += torch.sum(preds==labels)    \n",
        "        loss.backward()\n",
        "        optimizer.step()\n",
        "        \n",
        "\n",
        "    \n",
        "  epoch_loss = running_loss.item()/(i+1)\n",
        "  train_loss1.append(epoch_loss) #train_loss after num_epochs\n",
        "  print('Learning rate {:} | Training loss: {:.4f}'.format(learning_rate,epoch_loss))"
      ],
      "execution_count": 6,
      "outputs": [
        {
          "output_type": "stream",
          "text": [
            "Learning rate 0.1 | Training loss: 2.3050\n",
            "Learning rate 0.2 | Training loss: 2.3087\n",
            "Learning rate 0.3 | Training loss: 2.3141\n",
            "Learning rate 0.4 | Training loss: 2.3148\n",
            "Learning rate 0.5 | Training loss: 2.3176\n",
            "Learning rate 0.6 | Training loss: 2.3195\n",
            "Learning rate 0.7 | Training loss: 2.3247\n",
            "Learning rate 0.8 | Training loss: 2.3262\n",
            "Learning rate 0.9 | Training loss: 2.3286\n"
          ],
          "name": "stdout"
        }
      ]
    },
    {
      "cell_type": "code",
      "metadata": {
        "id": "j4FygSjEfO6q",
        "colab_type": "code",
        "colab": {
          "base_uri": "https://localhost:8080/",
          "height": 351
        },
        "outputId": "6c311b01-aa06-43bc-9970-d10815c125dc"
      },
      "source": [
        "fig = plt.figure(figsize=[15,5]) \n",
        "plt.subplot(121)\n",
        "plt.plot(Batch,train_loss,'r-',label='Loss vs BatchSize') \n",
        "plt.legend(loc='upper right')\n",
        "plt.xlabel('BatchSize')\n",
        "plt.ylabel('Training_Loss')\n",
        "plt.subplot(122)\n",
        "plt.plot(Y,train_loss1,'g-',label='Loss vs Learning rate') \n",
        "plt.legend(loc='upper right')\n",
        "plt.xlabel('Learning rate')\n",
        "plt.ylabel('Training_Loss')"
      ],
      "execution_count": 7,
      "outputs": [
        {
          "output_type": "execute_result",
          "data": {
            "text/plain": [
              "Text(0, 0.5, 'Training_Loss')"
            ]
          },
          "metadata": {
            "tags": []
          },
          "execution_count": 7
        },
        {
          "output_type": "display_data",
          "data": {
            "image/png": "[encoded data removed]",
            "text/plain": [
              "<Figure size 1080x360 with 2 Axes>"
            ]
          },
          "metadata": {
            "tags": []
          }
        }
      ]
    },
    {
      "cell_type": "code",
      "metadata": {
        "id": "qzUAF2Htiv2p",
        "colab_type": "code",
        "colab": {}
      },
      "source": [
        ""
      ],
      "execution_count": 0,
      "outputs": []
    }
  ]
}