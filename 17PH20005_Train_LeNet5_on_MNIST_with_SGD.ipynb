{
 "cells": [
  {
   "cell_type": "code",
   "execution_count": 0,
   "metadata": {
    "colab": {},
    "colab_type": "code",
    "id": "3aK2BplPFr8N"
   },
   "outputs": [],
   "source": [
    "# Anirban Bairagi\n",
    "# 17PH20005\n",
    "# Train LeNet5 on MNIST with SGD\n",
    "\n",
    "%matplotlib inline\n",
    "import torch\n",
    "import numpy as np\n",
    "import torch.nn as nn\n",
    "import torch.nn.functional as F\n",
    "import matplotlib.pyplot as plt\n",
    "from torchvision import transforms, datasets\n",
    "import torch.optim as optim"
   ]
  },
  {
   "cell_type": "code",
   "execution_count": 0,
   "metadata": {
    "colab": {},
    "colab_type": "code",
    "id": "48QjT3aETZsr"
   },
   "outputs": [],
   "source": [
    "class LeNet(nn.Module):\n",
    "    def __init__(self):\n",
    "        super(LeNet, self).__init__()\n",
    "        self.conv1 = nn.Conv2d(1, 6, kernel_size=5)\n",
    "        self.pool1 = nn.MaxPool2d(kernel_size=2,stride=2)\n",
    "        self.conv2 = nn.Conv2d(6, 16, kernel_size=5)\n",
    "        self.pool2 = nn.MaxPool2d(kernel_size=2,stride=2)        \n",
    "        self.fc1 = nn.Linear(400, 120)\n",
    "        self.fc2 = nn.Linear(120, 84)\n",
    "        self.fc3 = nn.Linear(84, 10)\n",
    "\n",
    "    def forward(self, x):\n",
    "        x = F.relu(self.conv1(x))\n",
    "        x = self.pool1(x)\n",
    "        x = F.relu(self.conv2(x))\n",
    "        x = self.pool2(x)\n",
    "        x = x.view(-1, 400)\n",
    "        x = F.relu(self.fc1(x)) \n",
    "        x = F.relu(self.fc2(x))\n",
    "        x = self.fc3(x)\n",
    "        return F.log_softmax(x,dim=1)"
   ]
  },
  {
   "cell_type": "code",
   "execution_count": 4,
   "metadata": {
    "colab": {
     "base_uri": "https://localhost:8080/",
     "height": 187
    },
    "colab_type": "code",
    "id": "uDNefHdDTftr",
    "outputId": "af8a81fc-9040-4d42-c383-0d61914c2c3f"
   },
   "outputs": [
    {
     "name": "stdout",
     "output_type": "stream",
     "text": [
      "LeNet(\n",
      "  (conv1): Conv2d(1, 6, kernel_size=(5, 5), stride=(1, 1))\n",
      "  (pool1): MaxPool2d(kernel_size=2, stride=2, padding=0, dilation=1, ceil_mode=False)\n",
      "  (conv2): Conv2d(6, 16, kernel_size=(5, 5), stride=(1, 1))\n",
      "  (pool2): MaxPool2d(kernel_size=2, stride=2, padding=0, dilation=1, ceil_mode=False)\n",
      "  (fc1): Linear(in_features=400, out_features=120, bias=True)\n",
      "  (fc2): Linear(in_features=120, out_features=84, bias=True)\n",
      "  (fc3): Linear(in_features=84, out_features=10, bias=True)\n",
      ")\n",
      "GPU is available!\n"
     ]
    }
   ],
   "source": [
    "use_gpu = torch.cuda.is_available()\n",
    "model = LeNet()\n",
    "print(model)\n",
    "if use_gpu:\n",
    "    print('GPU is available!')\n",
    "    model = model.cuda()"
   ]
  },
  {
   "cell_type": "code",
   "execution_count": 12,
   "metadata": {
    "colab": {
     "base_uri": "https://localhost:8080/",
     "height": 119
    },
    "colab_type": "code",
    "id": "qVdBVIL8HjM9",
    "outputId": "5aed1e57-2fc0-454b-eb12-78a8fffa4750"
   },
   "outputs": [
    {
     "name": "stdout",
     "output_type": "stream",
     "text": [
      "BatchSize 128  |  Training loss: 2.3029\n",
      "BatchSize 256  |  Training loss: 2.3022\n",
      "BatchSize 512  |  Training loss: 2.3016\n",
      "BatchSize 1024  |  Training loss: 2.3014\n",
      "BatchSize 2048  |  Training loss: 2.3013\n",
      "BatchSize 4096  |  Training loss: 2.3012\n"
     ]
    }
   ],
   "source": [
    "apply_transform = transforms.Compose([transforms.Resize(32), transforms.ToTensor()])\n",
    "X= np.arange(7,13)\n",
    "Batch = [2**i for i in X] # change according to system specs\n",
    "train_loss = []\n",
    "\n",
    "for i in X:\n",
    "  BatchSize=int(2**i)\n",
    "  #print(\"BatchSize= \",BatchSize)\n",
    "  trainset = datasets.MNIST(root='./MNIST', train=True, download=True, transform=apply_transform)\n",
    "  trainLoader = torch.utils.data.DataLoader(trainset, batch_size=BatchSize,\n",
    "                                          shuffle=True, num_workers=4) # Creating dataloader\n",
    "\n",
    "  # Validation set with random rotations in the range [-90,90]\n",
    "  testset = datasets.MNIST(root='./MNIST', train=False, download=True, transform=apply_transform)\n",
    "  testLoader = torch.utils.data.DataLoader(testset, batch_size=BatchSize,\n",
    "                                         shuffle=False, num_workers=4) # Creating dataloader\n",
    "  \n",
    "\n",
    "  \n",
    "  learning_rate = 0.1\n",
    "  momentum=0.9\n",
    "  num_epochs = 5\n",
    "  criterion = nn.CrossEntropyLoss() \n",
    "  params = model.parameters()\n",
    "  optimizer = optim.SGD(params=params,lr=learning_rate,momentum=momentum)\n",
    "\n",
    "\n",
    "  \n",
    "  for epoch in range(num_epochs):\n",
    "    \n",
    "    running_loss = 0.0 \n",
    "    running_corr = 0\n",
    "        \n",
    "    for i,data in enumerate(trainLoader):\n",
    "        inputs,labels = data\n",
    "        \n",
    "        if use_gpu:\n",
    "            inputs, labels = inputs.cuda(),labels.cuda() \n",
    "        # Initializing model gradients to zero\n",
    "        optimizer.zero_grad() \n",
    "        # Data feed-forward through the network\n",
    "        outputs = model(inputs)\n",
    "        # Predicted class is the one with maximum probability\n",
    "        preds = torch.argmax(outputs,dim=1)\n",
    "        # Finding the loss\n",
    "        #loss=F.nll_loss(outputs,labels)\n",
    "        loss = criterion(outputs, labels)\n",
    "        # Accumulating the loss for each batch\n",
    "        running_loss += loss \n",
    "        # Accumulate number of correct predictions\n",
    "        running_corr += torch.sum(preds==labels)    \n",
    "        loss.backward()\n",
    "        optimizer.step()\n",
    "        \n",
    "\n",
    "    \n",
    "  epoch_loss = running_loss.item()/(i+1)\n",
    "  train_loss.append(epoch_loss) #train_loss after num_epochs\n",
    "  print('BatchSize {:}  |  Training loss: {:.4f}'.format(BatchSize,epoch_loss))"
   ]
  },
  {
   "cell_type": "code",
   "execution_count": 13,
   "metadata": {
    "colab": {
     "base_uri": "https://localhost:8080/",
     "height": 170
    },
    "colab_type": "code",
    "id": "iOKo7t7Pgs9m",
    "outputId": "8ae0db34-b001-42ab-fe6e-58cb446fd531"
   },
   "outputs": [
    {
     "name": "stdout",
     "output_type": "stream",
     "text": [
      "Learning rate 0.10 Training loss: 2.3023\n",
      "Learning rate 0.20 Training loss: 2.3028\n",
      "Learning rate 0.30 Training loss: 2.3047\n",
      "Learning rate 0.40 Training loss: 2.3045\n",
      "Learning rate 0.50 Training loss: 2.3058\n",
      "Learning rate 0.60 Training loss: 2.3072\n",
      "Learning rate 0.70 Training loss: 2.3076\n",
      "Learning rate 0.80 Training loss: 2.3091\n",
      "Learning rate 0.90 Training loss: 2.3100\n"
     ]
    }
   ],
   "source": [
    "apply_transform = transforms.Compose([transforms.Resize(32), transforms.ToTensor()])\n",
    "\n",
    "BatchSize=256 # change according to system specs\n",
    "\n",
    "  \n",
    "trainset = datasets.MNIST(root='./MNIST', train=True, download=True, transform=apply_transform)\n",
    "trainLoader = torch.utils.data.DataLoader(trainset, batch_size=BatchSize,\n",
    "                                          shuffle=True, num_workers=4) # Creating dataloader\n",
    "\n",
    "testset = datasets.MNIST(root='./MNIST', train=False, download=True, transform=apply_transform)\n",
    "testLoader = torch.utils.data.DataLoader(testset, batch_size=BatchSize,\n",
    "                                         shuffle=False, num_workers=4) # Creating dataloader                        \n",
    "\n",
    "\n",
    "\n",
    "train_loss1 = []\n",
    "\n",
    "Y= np.arange(1,10)/10\n",
    "for i in Y:\n",
    "  momentum=0.9\n",
    "  num_epochs = 5\n",
    "  criterion = nn.CrossEntropyLoss() \n",
    "  params = model.parameters()\n",
    "\n",
    "  learning_rate= float(i)\n",
    "  optimizer = optim.SGD(params=params,lr=learning_rate,momentum=momentum)\n",
    "\n",
    "\n",
    "  \n",
    "  for epoch in range(num_epochs):\n",
    "    \n",
    "    running_loss = 0.0 \n",
    "    running_corr = 0\n",
    "        \n",
    "    for i,data in enumerate(trainLoader):\n",
    "        inputs,labels = data\n",
    "        \n",
    "        if use_gpu:\n",
    "            inputs, labels = inputs.cuda(),labels.cuda() \n",
    "        # Initializing model gradients to zero\n",
    "        optimizer.zero_grad() \n",
    "        # Data feed-forward through the network\n",
    "        outputs = model(inputs)\n",
    "        # Predicted class is the one with maximum probability\n",
    "        preds = torch.argmax(outputs,dim=1)\n",
    "        # Finding the loss\n",
    "        #loss=F.nll_loss(outputs,labels)\n",
    "        loss = criterion(outputs, labels)\n",
    "        # Accumulating the loss for each batch\n",
    "        running_loss += loss \n",
    "        # Accumulate number of correct predictions\n",
    "        running_corr += torch.sum(preds==labels)    \n",
    "        loss.backward()\n",
    "        optimizer.step()\n",
    "        \n",
    "\n",
    "\n",
    "  epoch_loss = running_loss.item()/(i+1)\n",
    "  train_loss1.append(epoch_loss) #train_loss after num_epochs\n",
    "  print('Learning rate {:0.2f} Training loss: {:.4f}'.format(learning_rate,epoch_loss))"
   ]
  },
  {
   "cell_type": "code",
   "execution_count": 15,
   "metadata": {
    "colab": {
     "base_uri": "https://localhost:8080/",
     "height": 351
    },
    "colab_type": "code",
    "id": "dAU5I4bEiGB5",
    "outputId": "d545949f-ef8a-4fc3-b01e-daf4804342d9"
   },
   "outputs": [
    {
     "data": {
      "text/plain": [
       "Text(0, 0.5, 'Training_Loss')"
      ]
     },
     "execution_count": 15,
     "metadata": {
      "tags": []
     },
     "output_type": "execute_result"
    },
    {
     "data": {
      "image/png": "[encoded data removed]",
      "text/plain": [
       "<Figure size 1080x360 with 2 Axes>"
      ]
     },
     "metadata": {
      "tags": []
     },
     "output_type": "display_data"
    }
   ],
   "source": [
    "fig = plt.figure(figsize=[15,5]) \n",
    "plt.subplot(121)\n",
    "plt.plot(Batch,train_loss,'r-',label='Loss vs BatchSize') \n",
    "plt.legend(loc='upper right')\n",
    "plt.xlabel('BatchSize')\n",
    "plt.ylabel('Training_Loss')\n",
    "plt.subplot(122)\n",
    "plt.plot(Y,train_loss1,'g-',label='Loss vs Learning rate') \n",
    "plt.legend(loc='upper right')\n",
    "plt.xlabel('Learning rate')\n",
    "plt.ylabel('Training_Loss')"
   ]
  },
  {
   "cell_type": "code",
   "execution_count": 0,
   "metadata": {
    "colab": {},
    "colab_type": "code",
    "id": "9CYlYzuYUY5N"
   },
   "outputs": [],
   "source": []
  }
 ],
 "metadata": {
  "accelerator": "GPU",
  "colab": {
   "name": "Train LeNet5 on MNIST with SGD.ipynb",
   "provenance": []
  },
  "kernelspec": {
   "display_name": "Python 3",
   "language": "python",
   "name": "python3"
  },
  "language_info": {
   "codemirror_mode": {
    "name": "ipython",
    "version": 3
   },
   "file_extension": ".py",
   "mimetype": "text/x-python",
   "name": "python",
   "nbconvert_exporter": "python",
   "pygments_lexer": "ipython3",
   "version": "3.7.4"
  }
 },
 "nbformat": 4,
 "nbformat_minor": 1
}
